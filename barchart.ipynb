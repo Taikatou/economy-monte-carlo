{
  "nbformat": 4,
  "nbformat_minor": 0,
  "metadata": {
    "colab": {
      "provenance": [],
      "authorship_tag": "ABX9TyMy71bazEs1K9qnw1Qd5ylP",
      "include_colab_link": true
    },
    "kernelspec": {
      "name": "python3",
      "display_name": "Python 3"
    },
    "language_info": {
      "name": "python"
    }
  },
  "cells": [
    {
      "cell_type": "markdown",
      "metadata": {
        "id": "view-in-github",
        "colab_type": "text"
      },
      "source": [
        "<a href=\"https://colab.research.google.com/github/Taikatou/economy-monte-carlo/blob/main/barchart.ipynb\" target=\"_parent\"><img src=\"https://colab.research.google.com/assets/colab-badge.svg\" alt=\"Open In Colab\"/></a>"
      ]
    },
    {
      "cell_type": "code",
      "execution_count": null,
      "metadata": {
        "id": "V0exZZlfev1c"
      },
      "outputs": [],
      "source": [
        "# Adjusting the bar plots for consistent width and spacing\n",
        "fig, axes = plt.subplots(nrows=3, ncols=3, figsize=(15, 10), constrained_layout=True)\n",
        "fig.suptitle('Comparison of Monte Carlo and Reinforcement Learning Results')\n",
        "\n",
        "bar_width = 0.35  # Width of the bars\n",
        "offset = 0.2      # Space between the two sets of bars\n",
        "\n",
        "for i, column in enumerate(columns_to_plot):\n",
        "    ax = axes[i//3, i%3]\n",
        "\n",
        "    # Positions of bars on the X-axis\n",
        "    r1 = np.arange(len(df_monte_carlo[column]))\n",
        "    r2 = [x + bar_width for x in r1]\n",
        "\n",
        "    ax.bar(r1, df_monte_carlo[column], color='blue', width=bar_width, label='Monte Carlo')\n",
        "    ax.bar(r2, df_reinforcement_learning[column], color='orange', width=bar_width, label='Reinforcement Learning')\n",
        "\n",
        "    # Add labels, title and custom x-axis tick labels, etc.\n",
        "    ax.set_title(column)\n",
        "    ax.set_xlabel('Category')\n",
        "    ax.set_ylabel('Values')\n",
        "    ax.set_xticks([r + bar_width/2 for r in range(len(df_monte_carlo[column]))])\n",
        "    ax.set_xticklabels(df_monte_carlo[\"Category\"])\n",
        "    ax.legend()\n",
        "\n",
        "plt.savefig('/mnt/data/comparison_barcharts.png')\n",
        "plt.show()\n",
        "\n",
        "# Providing the path for the saved image\n",
        "file_path = '/mnt/data/comparison_barcharts.png'\n",
        "file_path"
      ]
    }
  ]
}